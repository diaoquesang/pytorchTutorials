{
 "cells": [
  {
   "cell_type": "code",
   "execution_count": 41,
   "metadata": {
    "collapsed": true
   },
   "outputs": [],
   "source": [
    "import torch.nn.functional as F\n",
    "import torch.nn as nn\n",
    "import torch"
   ]
  },
  {
   "cell_type": "code",
   "execution_count": 42,
   "outputs": [],
   "source": [
    "class mixedLoss(nn.Module):\n",
    "    def __init__(self):\n",
    "        super(mixedLoss,self).__init__()\n",
    "        self.a = 0.6\n",
    "\n",
    "    def forward(self, predict, label):  # 一般是预测值和label\n",
    "        # 进行损失计算，即前向传播，如\n",
    "        p = predict\n",
    "        l = label\n",
    "        # print(self.a)\n",
    "        return F.mse_loss(p, l)"
   ],
   "metadata": {
    "collapsed": false
   }
  },
  {
   "cell_type": "code",
   "execution_count": 43,
   "outputs": [
    {
     "name": "stdout",
     "output_type": "stream",
     "text": [
      "tensor(1.9983)\n"
     ]
    }
   ],
   "source": [
    "t1 = torch.randn(8, 1, 256, 256)\n",
    "t2 = torch.randn(8, 1, 256, 256)\n",
    "loss = mixedLoss()\n",
    "print(loss(t1, t2))"
   ],
   "metadata": {
    "collapsed": false
   }
  }
 ],
 "metadata": {
  "kernelspec": {
   "display_name": "Python 3",
   "language": "python",
   "name": "python3"
  },
  "language_info": {
   "codemirror_mode": {
    "name": "ipython",
    "version": 2
   },
   "file_extension": ".py",
   "mimetype": "text/x-python",
   "name": "python",
   "nbconvert_exporter": "python",
   "pygments_lexer": "ipython2",
   "version": "2.7.6"
  }
 },
 "nbformat": 4,
 "nbformat_minor": 0
}
